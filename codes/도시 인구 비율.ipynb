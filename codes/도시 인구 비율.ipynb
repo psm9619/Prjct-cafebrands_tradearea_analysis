{
 "cells": [
  {
   "cell_type": "code",
   "execution_count": 2,
   "metadata": {},
   "outputs": [],
   "source": [
    "import pandas as pd\n",
    "import numpy as np"
   ]
  },
  {
   "cell_type": "markdown",
   "metadata": {},
   "source": [
    "<br>\n",
    "\n",
    "<ul style=\"list-style-type:disc;\">\n",
    "  <li style = \"font-family: Gulim; font-size:24px;line-height:1.4\">\n",
    "      <b> 전처리_시군구별 전체인구 및 도시인구비율<sup>1</sup> </b>\n",
    "        <ul style = \"list-style-type:circle;\">\n",
    "            <li style = \"font-family: Gulim;font-size:16px;line-height:1.5\"> 도시계획현황, 통계청<sup>1</sup> </li>\n",
    "            <li style = \"font-family: Gulim;font-size:16px;line-height:1.5\"> 시각화 목적에 맞게 지역 ID를 생성한다.</li>"
   ]
  },
  {
   "cell_type": "code",
   "execution_count": 11,
   "metadata": {},
   "outputs": [
    {
     "data": {
      "text/html": [
       "<div>\n",
       "<style scoped>\n",
       "    .dataframe tbody tr th:only-of-type {\n",
       "        vertical-align: middle;\n",
       "    }\n",
       "\n",
       "    .dataframe tbody tr th {\n",
       "        vertical-align: top;\n",
       "    }\n",
       "\n",
       "    .dataframe thead th {\n",
       "        text-align: right;\n",
       "    }\n",
       "</style>\n",
       "<table border=\"1\" class=\"dataframe\">\n",
       "  <thead>\n",
       "    <tr style=\"text-align: right;\">\n",
       "      <th></th>\n",
       "      <th>시도</th>\n",
       "      <th>군구</th>\n",
       "      <th>전체인구</th>\n",
       "      <th>도시인구비율</th>\n",
       "    </tr>\n",
       "  </thead>\n",
       "  <tbody>\n",
       "    <tr>\n",
       "      <th>0</th>\n",
       "      <td>서울특별시</td>\n",
       "      <td>종로구</td>\n",
       "      <td>153065</td>\n",
       "      <td>100.0</td>\n",
       "    </tr>\n",
       "    <tr>\n",
       "      <th>1</th>\n",
       "      <td>서울특별시</td>\n",
       "      <td>중구</td>\n",
       "      <td>125725</td>\n",
       "      <td>100.0</td>\n",
       "    </tr>\n",
       "    <tr>\n",
       "      <th>2</th>\n",
       "      <td>서울특별시</td>\n",
       "      <td>용산구</td>\n",
       "      <td>228999</td>\n",
       "      <td>100.0</td>\n",
       "    </tr>\n",
       "    <tr>\n",
       "      <th>3</th>\n",
       "      <td>서울특별시</td>\n",
       "      <td>성동구</td>\n",
       "      <td>308221</td>\n",
       "      <td>100.0</td>\n",
       "    </tr>\n",
       "    <tr>\n",
       "      <th>4</th>\n",
       "      <td>서울특별시</td>\n",
       "      <td>광진구</td>\n",
       "      <td>355559</td>\n",
       "      <td>100.0</td>\n",
       "    </tr>\n",
       "  </tbody>\n",
       "</table>\n",
       "</div>"
      ],
      "text/plain": [
       "      시도   군구    전체인구  도시인구비율\n",
       "0  서울특별시  종로구  153065   100.0\n",
       "1  서울특별시   중구  125725   100.0\n",
       "2  서울특별시  용산구  228999   100.0\n",
       "3  서울특별시  성동구  308221   100.0\n",
       "4  서울특별시  광진구  355559   100.0"
      ]
     },
     "execution_count": 11,
     "metadata": {},
     "output_type": "execute_result"
    }
   ],
   "source": [
    "city = pd.read_csv(\"시군구별 전체인구 및 도시인구비율.csv\", encoding='euc-kr')\n",
    "city = city.rename(columns={'소재지(시군구)별(1)':'시도', \n",
    "                     '소재지(시군구)별(2)':'군구',\n",
    "                     '전체인구(A) (명)':'전체인구',\n",
    "                     '도시지역 인구비율 (%)':'도시인구비율'})\n",
    "city.head()"
   ]
  },
  {
   "cell_type": "code",
   "execution_count": 14,
   "metadata": {
    "scrolled": true
   },
   "outputs": [
    {
     "data": {
      "text/html": [
       "<div>\n",
       "<style scoped>\n",
       "    .dataframe tbody tr th:only-of-type {\n",
       "        vertical-align: middle;\n",
       "    }\n",
       "\n",
       "    .dataframe tbody tr th {\n",
       "        vertical-align: top;\n",
       "    }\n",
       "\n",
       "    .dataframe thead th {\n",
       "        text-align: right;\n",
       "    }\n",
       "</style>\n",
       "<table border=\"1\" class=\"dataframe\">\n",
       "  <thead>\n",
       "    <tr style=\"text-align: right;\">\n",
       "      <th></th>\n",
       "      <th>시도</th>\n",
       "      <th>군구</th>\n",
       "      <th>전체인구</th>\n",
       "      <th>도시인구비율</th>\n",
       "    </tr>\n",
       "  </thead>\n",
       "  <tbody>\n",
       "    <tr>\n",
       "      <th>0</th>\n",
       "      <td>서울</td>\n",
       "      <td>종로구</td>\n",
       "      <td>153065</td>\n",
       "      <td>100.0</td>\n",
       "    </tr>\n",
       "    <tr>\n",
       "      <th>1</th>\n",
       "      <td>서울</td>\n",
       "      <td>중구</td>\n",
       "      <td>125725</td>\n",
       "      <td>100.0</td>\n",
       "    </tr>\n",
       "    <tr>\n",
       "      <th>2</th>\n",
       "      <td>서울</td>\n",
       "      <td>용산구</td>\n",
       "      <td>228999</td>\n",
       "      <td>100.0</td>\n",
       "    </tr>\n",
       "    <tr>\n",
       "      <th>3</th>\n",
       "      <td>서울</td>\n",
       "      <td>성동구</td>\n",
       "      <td>308221</td>\n",
       "      <td>100.0</td>\n",
       "    </tr>\n",
       "    <tr>\n",
       "      <th>4</th>\n",
       "      <td>서울</td>\n",
       "      <td>광진구</td>\n",
       "      <td>355559</td>\n",
       "      <td>100.0</td>\n",
       "    </tr>\n",
       "  </tbody>\n",
       "</table>\n",
       "</div>"
      ],
      "text/plain": [
       "   시도   군구    전체인구  도시인구비율\n",
       "0  서울  종로구  153065   100.0\n",
       "1  서울   중구  125725   100.0\n",
       "2  서울  용산구  228999   100.0\n",
       "3  서울  성동구  308221   100.0\n",
       "4  서울  광진구  355559   100.0"
      ]
     },
     "execution_count": 14,
     "metadata": {},
     "output_type": "execute_result"
    }
   ],
   "source": [
    "city_1 = city.copy()\n",
    "for i in range(len(city_1)):\n",
    "    if len(city_1.loc[i,'시도']) >= 3:\n",
    "        if city_1.loc[i,'시도'][2:] in ['시','광역시', '특별시', '도']:\n",
    "            city_1.loc[i,'시도'] = city_1.loc[i,'시도'][:2] \n",
    "        elif city_1.loc[i,'시도'][3]  == '도':\n",
    "            city_1.loc[i,'시도'] = city_1.loc[i,'시도'][0] + city_1.loc[i,'시도'][2]     \n",
    "    if city_1.loc[i,'군구'] == '고성군':\n",
    "        if city_1.loc[i,'시도'] == '강원':\n",
    "            city_1.loc[i,'군구'] = '고성(강원)'\n",
    "        else:\n",
    "            city_1.loc[i,'군구'] = '고성(경남)'  \n",
    "    elif city_1.loc[i,'시도'] == '세종특별자치시':\n",
    "        city_1.loc[i,'군구'] = '세종'\n",
    "    else:\n",
    "        if len(city_1.loc[i,'군구']) >= 4:\n",
    "            city_1.loc[i,'군구'] = city_1.loc[i,'군구'][:3]\n",
    "\n",
    "city_1.head()\n"
   ]
  },
  {
   "cell_type": "code",
   "execution_count": 19,
   "metadata": {},
   "outputs": [],
   "source": [
    "special_cities =  ['서울',  '인천',  '대전', '대구', '울산', '부산', '광주']\n",
    "over3_gungu = ['고성(강원)', '고성(경남)','동두천', '의정부', '일산동', '남양주', '일산서', '서대문', '동대문', '영등포', '부산진', '해운대', '서귀포']"
   ]
  },
  {
   "cell_type": "code",
   "execution_count": 21,
   "metadata": {},
   "outputs": [],
   "source": [
    "tot_pop = city_1['전체인구'].sum()"
   ]
  },
  {
   "cell_type": "code",
   "execution_count": 23,
   "metadata": {},
   "outputs": [
    {
     "name": "stdout",
     "output_type": "stream",
     "text": [
      "<class 'pandas.core.frame.DataFrame'>\n",
      "RangeIndex: 229 entries, 0 to 228\n",
      "Data columns (total 4 columns):\n",
      "시도        229 non-null object\n",
      "군구        229 non-null object\n",
      "전체인구      229 non-null int64\n",
      "도시인구비율    229 non-null float64\n",
      "dtypes: float64(1), int64(1), object(2)\n",
      "memory usage: 7.2+ KB\n"
     ]
    }
   ],
   "source": [
    "city_1.info()"
   ]
  },
  {
   "cell_type": "code",
   "execution_count": 29,
   "metadata": {},
   "outputs": [
    {
     "data": {
      "text/html": [
       "<div>\n",
       "<style scoped>\n",
       "    .dataframe tbody tr th:only-of-type {\n",
       "        vertical-align: middle;\n",
       "    }\n",
       "\n",
       "    .dataframe tbody tr th {\n",
       "        vertical-align: top;\n",
       "    }\n",
       "\n",
       "    .dataframe thead th {\n",
       "        text-align: right;\n",
       "    }\n",
       "</style>\n",
       "<table border=\"1\" class=\"dataframe\">\n",
       "  <thead>\n",
       "    <tr style=\"text-align: right;\">\n",
       "      <th></th>\n",
       "      <th>ID</th>\n",
       "      <th>전국대비인구비율</th>\n",
       "      <th>지역별도시인구비율</th>\n",
       "    </tr>\n",
       "  </thead>\n",
       "  <tbody>\n",
       "    <tr>\n",
       "      <th>224</th>\n",
       "      <td>함양</td>\n",
       "      <td>0.000772661</td>\n",
       "      <td>47.35</td>\n",
       "    </tr>\n",
       "    <tr>\n",
       "      <th>225</th>\n",
       "      <td>거창</td>\n",
       "      <td>0.00120509</td>\n",
       "      <td>65.47</td>\n",
       "    </tr>\n",
       "    <tr>\n",
       "      <th>226</th>\n",
       "      <td>합천</td>\n",
       "      <td>0.000885964</td>\n",
       "      <td>57.72</td>\n",
       "    </tr>\n",
       "    <tr>\n",
       "      <th>227</th>\n",
       "      <td>제주</td>\n",
       "      <td>0.00937648</td>\n",
       "      <td>92.16</td>\n",
       "    </tr>\n",
       "    <tr>\n",
       "      <th>228</th>\n",
       "      <td>서귀포</td>\n",
       "      <td>0.00349718</td>\n",
       "      <td>86.63</td>\n",
       "    </tr>\n",
       "  </tbody>\n",
       "</table>\n",
       "</div>"
      ],
      "text/plain": [
       "      ID     전국대비인구비율 지역별도시인구비율\n",
       "224   함양  0.000772661     47.35\n",
       "225   거창   0.00120509     65.47\n",
       "226   합천  0.000885964     57.72\n",
       "227   제주   0.00937648     92.16\n",
       "228  서귀포   0.00349718     86.63"
      ]
     },
     "execution_count": 29,
     "metadata": {},
     "output_type": "execute_result"
    }
   ],
   "source": [
    "city_2 = pd.DataFrame(columns=['ID', '전국대비인구비율', '지역별도시인구비율'])\n",
    "\n",
    "n = len(city_1)\n",
    "for i in range(n):\n",
    "    # 군구 중 원래 3음절이 아닌 경우 맨 끝의 '구' 또는 '시' 를 떼어낸다\n",
    "    if city_1.loc[i, '군구'] not in over3_gungu and len(str(city_1.loc[i, '군구'])) >= 3:\n",
    "        city_1.loc[i,'군구'] = str(city_1.loc[i, '군구'])[0:-1]\n",
    "    # 시도 가 특별시, 광역시 등일 경우 draw_korea 와 호환을 위해 ID 에 포함한다.\n",
    "    if city_1.loc[i, '시도'] in special_cities:\n",
    "        city_2.loc[i, 'ID'] = city_1.loc[i, '시도'] +' '+ str(city_1.loc[i, '군구'])\n",
    "    else:\n",
    "        city_2.loc[i, 'ID'] = city_1.loc[i, '군구']\n",
    "    city_2.loc[i, '전국대비인구비율'] = city_1.loc[i,'전체인구']/tot_pop\n",
    "    city_2.loc[i, '지역별도시인구비율'] = city_1.loc[i,'도시인구비율']\n",
    "    \n",
    "city_2.tail()"
   ]
  },
  {
   "cell_type": "code",
   "execution_count": 27,
   "metadata": {},
   "outputs": [],
   "source": [
    "city_2.to_csv(\"data_soomin/시군구별인구비율.csv\", encoding = 'utf-8-sig')\n",
    "city_2.to_csv(\"data_soomin/시군구별인구비율_euckr인코딩.csv\")"
   ]
  },
  {
   "cell_type": "markdown",
   "metadata": {},
   "source": [
    "---------------------\n",
    "<p style = \"font-family:Gulim; font-size:26px;font-weight:bold\">참조 링크 </p>\n",
    "<br>\n",
    "\n",
    "\n",
    "1. [도시지역 인구현황(시군구)](http://kosis.kr/search/search.do),한국토지주택공사,「도시계획현황」"
   ]
  }
 ],
 "metadata": {
  "kernelspec": {
   "display_name": "Python 3",
   "language": "python",
   "name": "python3"
  },
  "language_info": {
   "codemirror_mode": {
    "name": "ipython",
    "version": 3
   },
   "file_extension": ".py",
   "mimetype": "text/x-python",
   "name": "python",
   "nbconvert_exporter": "python",
   "pygments_lexer": "ipython3",
   "version": "3.7.3"
  }
 },
 "nbformat": 4,
 "nbformat_minor": 2
}
